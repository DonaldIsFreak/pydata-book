{
 "metadata": {
  "name": "Ch02"
 },
 "nbformat": 3,
 "nbformat_minor": 0,
 "worksheets": [
  {
   "cells": [
    {
     "cell_type": "raw",
     "metadata": {},
     "source": [
      "\u8b80\u53d6\u6a94\u6848\uff0c\u4e26\u5c07\u5167\u5bb9\u8f49\u6210JSON\u7269\u4ef6"
     ]
    },
    {
     "cell_type": "code",
     "collapsed": false,
     "input": [
      "import json;\n",
      "\n",
      "path = 'ch02/usagov_bitly_data2012-03-16-1331923249.txt';\n",
      "records = [json.loads(line) for line in open(path)];"
     ],
     "language": "python",
     "metadata": {},
     "outputs": []
    },
    {
     "cell_type": "raw",
     "metadata": {},
     "source": [
      "\u53d6\u51fa\u6bcf\u7b46\u8cc7\u6599\u7684Time Zone\u3002"
     ]
    },
    {
     "cell_type": "code",
     "collapsed": false,
     "input": [
      "time_zones = [rec['tz'] for rec in records if rec.has_key('tz')];"
     ],
     "language": "python",
     "metadata": {},
     "outputs": []
    },
    {
     "cell_type": "raw",
     "metadata": {},
     "source": [
      "\u5beb\u51fa\u4e00\u500b\u8a08\u7b97Time Zones\u51fa\u73fe\u6b21\u6578\u51fd\u5f0f\u3002"
     ]
    },
    {
     "cell_type": "code",
     "collapsed": false,
     "input": [
      "from collections import defaultdict;\n",
      "\n",
      "def get_count(seq):\n",
      "    counts = defaultdict(int);\n",
      "    for x in seq:\n",
      "            counts[x] += 1;\n",
      "    return counts;\n",
      "\n",
      "counts = get_count(time_zones);\n",
      "\n",
      "print counts['America/New_York'];"
     ],
     "language": "python",
     "metadata": {},
     "outputs": []
    },
    {
     "cell_type": "raw",
     "metadata": {},
     "source": [
      "\u8a08\u7b97\u6b21\u6578\u524dN\u540d\u51fd\u5f0f\u3002"
     ]
    },
    {
     "cell_type": "code",
     "collapsed": true,
     "input": [
      "def top_counts(count_dict,n=10):\n",
      "        value_key_pairs = [(counts,tz) for tz,counts in count_dict.items()];\n",
      "        value_key_pairs.sort();\n",
      "        return value_key_pairs[-n:];\n",
      "\n",
      "print top_counts(counts);"
     ],
     "language": "python",
     "metadata": {},
     "outputs": []
    },
    {
     "cell_type": "raw",
     "metadata": {},
     "source": [
      "\u6539\u6210\u4f7f\u7528Python standard library\u975e\u5e38\u9177\u7684\u5de5\u5177- Counter\uff0c\u4e0a\u9762\u90a3\u6bb5Code\u90fd\u8b8a\u5f97\u5f88\u65b9\u4fbf\u3002"
     ]
    },
    {
     "cell_type": "code",
     "collapsed": false,
     "input": [
      "from collections import Counter;\n",
      "\n",
      "counts = Counter(time_zones);\n",
      "\n",
      "print counts.most_common(10);"
     ],
     "language": "python",
     "metadata": {},
     "outputs": []
    },
    {
     "cell_type": "raw",
     "metadata": {},
     "source": [
      "\u5c07JSON\u7269\u4ef6\uff0c\u4f7f\u7528Pandas\u7684DataFrame\u8f49\u6210\u8cc7\u6599\u8868\u3002"
     ]
    },
    {
     "cell_type": "code",
     "collapsed": false,
     "input": [
      "from pandas import DataFrame, Series;\n",
      "\n",
      "import pandas as pd;\n",
      "\n",
      "frame = DataFrame(records);\n",
      "\n",
      "print frame['tz'][:10];"
     ],
     "language": "python",
     "metadata": {},
     "outputs": []
    },
    {
     "cell_type": "raw",
     "metadata": {},
     "source": [
      "frame['tz']\u6703\u5f97\u5230Series\u3002"
     ]
    },
    {
     "cell_type": "code",
     "collapsed": false,
     "input": [
      "print type(frame['tz']);               # return Series object.\n",
      "\n",
      "tz_counts = frame['tz'].value_counts();\n",
      "print tz_counts[:10];"
     ],
     "language": "python",
     "metadata": {},
     "outputs": []
    },
    {
     "cell_type": "code",
     "collapsed": false,
     "input": [
      "plt.plot([1,2,3]);"
     ],
     "language": "python",
     "metadata": {},
     "outputs": []
    },
    {
     "cell_type": "code",
     "collapsed": false,
     "input": [],
     "language": "python",
     "metadata": {},
     "outputs": []
    }
   ],
   "metadata": {}
  }
 ]
}